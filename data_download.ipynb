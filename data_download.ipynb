{
 "cells": [
  {
   "cell_type": "code",
   "execution_count": 1,
   "metadata": {},
   "outputs": [
    {
     "name": "stderr",
     "output_type": "stream",
     "text": [
      "100%|██████████| 26.4M/26.4M [00:27<00:00, 976kB/s] \n",
      "100%|██████████| 29.5k/29.5k [00:00<00:00, 422kB/s]\n",
      "100%|██████████| 4.42M/4.42M [00:01<00:00, 2.27MB/s]\n",
      "100%|██████████| 5.15k/5.15k [00:00<00:00, 12.3MB/s]\n"
     ]
    }
   ],
   "source": [
    "from torchvision.datasets import FashionMNIST\n",
    "\n",
    "train_ds = FashionMNIST(root='data/', train=True, download=True)\n",
    "test_ds  = FashionMNIST(root='data/', train=False, download=True)\n"
   ]
  }
 ],
 "metadata": {
  "kernelspec": {
   "display_name": "env",
   "language": "python",
   "name": "python3"
  },
  "language_info": {
   "codemirror_mode": {
    "name": "ipython",
    "version": 3
   },
   "file_extension": ".py",
   "mimetype": "text/x-python",
   "name": "python",
   "nbconvert_exporter": "python",
   "pygments_lexer": "ipython3",
   "version": "3.13.2"
  }
 },
 "nbformat": 4,
 "nbformat_minor": 2
}
